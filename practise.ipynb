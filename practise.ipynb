{
  "nbformat": 4,
  "nbformat_minor": 0,
  "metadata": {
    "colab": {
      "name": "practise.ipynb",
      "provenance": []
    },
    "kernelspec": {
      "name": "python3",
      "display_name": "Python 3"
    }
  },
  "cells": [
    {
      "cell_type": "code",
      "metadata": {
        "id": "7LiRWr6L_CZ5",
        "colab_type": "code",
        "outputId": "79b2acd5-5e87-4e42-8089-a7bf7f18a800",
        "colab": {
          "base_uri": "https://localhost:8080/",
          "height": 68
        }
      },
      "source": [
        "current_time = input(\"enter current time now\")\n",
        "waiting_time = input(\"Enter waiting time\")\n",
        "current_time_int = int(current_time)\n",
        "waiting_time_int = int(waiting_time)\n",
        "\n",
        "hours = current_time_int + waiting_time_int\n",
        "\n",
        "total = hours % 24\n",
        "\n",
        "print(total)"
      ],
      "execution_count": 0,
      "outputs": [
        {
          "output_type": "stream",
          "text": [
            "enter current time now12\n",
            "Enter waiting time5\n",
            "17\n"
          ],
          "name": "stdout"
        }
      ]
    },
    {
      "cell_type": "code",
      "metadata": {
        "id": "AlgoYrgzDaMM",
        "colab_type": "code",
        "colab": {}
      },
      "source": [
        "All work and no play makes Jack a dull boy"
      ],
      "execution_count": 0,
      "outputs": []
    },
    {
      "cell_type": "code",
      "metadata": {
        "id": "N3nZEdTHGBqd",
        "colab_type": "code",
        "colab": {}
      },
      "source": [
        "word1 = input(\"all\")\n",
        "word2 = input(\"work\")\n",
        "word3 = input(\"and\")\n",
        "word4 = input(\"no\")\n",
        "word5 = inp(\"play\")\n",
        "word6 = (\"makes\")\n",
        "word7 = (\"jack\")\n",
        "word8 = (\"a\")\n",
        "word9 = (\"dull\")\n",
        "word10 = (\"boy\")\n",
        "\n",
        "print(word1 + ''+ word2 + ''+ word3 +''+ word4 +''+ word5+''+ word6+''+ word7+''+word8+''+ word9+''+ word10)"
      ],
      "execution_count": 0,
      "outputs": []
    },
    {
      "cell_type": "markdown",
      "metadata": {
        "id": "M7GHLPNhL12C",
        "colab_type": "text"
      },
      "source": [
        "Write a Python program that assigns the principal amount of 10000 to variable P, assign to n the value 12, and assign to r the interest rate of 8% (0.08). Then have the program prompt the user for the number of years, t, that the money will be compounded for. Calculate and print the final amount after t years"
      ]
    },
    {
      "cell_type": "code",
      "metadata": {
        "id": "3PyrGeIBK1kK",
        "colab_type": "code",
        "outputId": "6f62ccce-a7bc-4cf1-80c7-96442b982414",
        "colab": {
          "base_uri": "https://localhost:8080/",
          "height": 51
        }
      },
      "source": [
        "#import math()\n",
        "P = 10000\n",
        "n = 12\n",
        "r = 0.08\n",
        "t= int(input(\" the number of years\"))\n",
        "\n",
        "final = P * ( ((1 + (r/n)) ** (n * t)) )\n",
        "\n",
        "# first = int(p)\n",
        "# second = int[1+(r/n)]\n",
        "# thirt = int(second **n*t)\n",
        "\n",
        "# total= (first * second * third)\n",
        "print(final)\n"
      ],
      "execution_count": 0,
      "outputs": [
        {
          "output_type": "stream",
          "text": [
            " the number of years5\n",
            "14898.45708301605\n"
          ],
          "name": "stdout"
        }
      ]
    },
    {
      "cell_type": "code",
      "metadata": {
        "id": "_YgzAyOJQW-5",
        "colab_type": "code",
        "outputId": "9b06bbfa-0104-4e9e-a636-906de0ab968c",
        "colab": {
          "base_uri": "https://localhost:8080/",
          "height": 51
        }
      },
      "source": [
        "pi = 3.14\n",
        "r = float(input(\"Enter the radius\"))\n",
        "circle = pi * r * r\n",
        "print(circle)"
      ],
      "execution_count": 0,
      "outputs": [
        {
          "output_type": "stream",
          "text": [
            "Enter the radius5\n",
            "78.5\n"
          ],
          "name": "stdout"
        }
      ]
    },
    {
      "cell_type": "code",
      "metadata": {
        "id": "gXP4SNyOSKOE",
        "colab_type": "code",
        "outputId": "da6955b6-eb2e-428b-fc90-3d0d70a5da2c",
        "colab": {
          "base_uri": "https://localhost:8080/",
          "height": 68
        }
      },
      "source": [
        "height = int(input(\"enter height of rectangle\"))\n",
        "width = int(input(\"enter width of rectangle\"))\n",
        "\n",
        "rectangle = height * width\n",
        "print(rectangle)"
      ],
      "execution_count": 0,
      "outputs": [
        {
          "output_type": "stream",
          "text": [
            "enter height of rectangle55\n",
            "enter width of rectangle5\n",
            "275\n"
          ],
          "name": "stdout"
        }
      ]
    },
    {
      "cell_type": "code",
      "metadata": {
        "id": "ecge8BYgUZsW",
        "colab_type": "code",
        "outputId": "588c4b45-9cb4-4dbe-bd6d-6ea682b3bd9a",
        "colab": {
          "base_uri": "https://localhost:8080/",
          "height": 68
        }
      },
      "source": [
        "miles = int(input (\"enter no of miles\"))\n",
        "gallons = int(input (\"enter no of miles\"))\n",
        "\n",
        "\n",
        "mpg = miles // gallons \n",
        "print(mpg)"
      ],
      "execution_count": 0,
      "outputs": [
        {
          "output_type": "stream",
          "text": [
            "enter no of miles10\n",
            "enter no of miles2\n",
            "5\n"
          ],
          "name": "stdout"
        }
      ]
    },
    {
      "cell_type": "code",
      "metadata": {
        "id": "CZcRI6eCZQXd",
        "colab_type": "code",
        "outputId": "8e8a9899-2d64-4c9a-cfc8-a7741593177a",
        "colab": {
          "base_uri": "https://localhost:8080/",
          "height": 51
        }
      },
      "source": [
        "deg_celsius = int(input(\"Enter the temperature in celsius\"))\n",
        "\n",
        "deg_far = deg_celsius * (9 / 5) + 32\n",
        "\n",
        "print(deg_celsius, \"degree celsiud is\", deg_far, \"degree far.\")"
      ],
      "execution_count": 0,
      "outputs": [
        {
          "output_type": "stream",
          "text": [
            "Enter the temperature in celsius20\n",
            "20 degree celsiud is 68.0 degree far.\n"
          ],
          "name": "stdout"
        }
      ]
    },
    {
      "cell_type": "code",
      "metadata": {
        "id": "mU5QMsklcBRP",
        "colab_type": "code",
        "outputId": "9aa84a2c-a21a-4b2f-b6b4-b34dda254e7e",
        "colab": {
          "base_uri": "https://localhost:8080/",
          "height": 51
        }
      },
      "source": [
        "deg_far = int(input(\"enter the far\"))\n",
        "\n",
        "deg_celsius = (deg_far - 32) * (5/9)\n",
        "\n",
        "print(deg_far,\"degree far is\", deg_celsius,\"degree in celsius\")"
      ],
      "execution_count": 0,
      "outputs": [
        {
          "output_type": "stream",
          "text": [
            "enter the far100\n",
            "100 degree far is 37.77777777777778 degree in celsius\n"
          ],
          "name": "stdout"
        }
      ]
    },
    {
      "cell_type": "code",
      "metadata": {
        "id": "wux_2S_ZkTM5",
        "colab_type": "code",
        "outputId": "c34d4a58-7024-41a0-a11c-3f085015b17a",
        "colab": {
          "base_uri": "https://localhost:8080/",
          "height": 51
        }
      },
      "source": [
        "rv = \"\"\"Once upon a midnight dreary, while I pondered, weak and weary,Over many a quaint and curious volume of forgotten lore,While I nodded, nearly napping, suddenly there came a tapping,As of some one gently rapping, rapping at my chamber door.'Tis some visitor, I muttered, tapping at my chamber door;Only this and nothing more.\"\"\"\n",
        "num_chars = len(rv)\n",
        "words = rv.split()\n",
        "num_words = len(words)\n",
        "print(num_chars)\n",
        "print(num_words)\n"
      ],
      "execution_count": 0,
      "outputs": [
        {
          "output_type": "stream",
          "text": [
            "323\n",
            "52\n"
          ],
          "name": "stdout"
        }
      ]
    },
    {
      "cell_type": "code",
      "metadata": {
        "id": "6V6VjuUc3SAk",
        "colab_type": "code",
        "colab": {
          "base_uri": "https://localhost:8080/",
          "height": 51
        },
        "outputId": "b17120c7-c106-4e7e-948e-6adb95527a6e"
      },
      "source": [
        "import math\n",
        "degrees = 180\n",
        "radius = degrees / 360.0 * 2 * math.pi\n",
        "print(radius)\n",
        "\n",
        "math.sin(radius)"
      ],
      "execution_count": 5,
      "outputs": [
        {
          "output_type": "stream",
          "text": [
            "3.141592653589793\n"
          ],
          "name": "stdout"
        },
        {
          "output_type": "execute_result",
          "data": {
            "text/plain": [
              "1.2246467991473532e-16"
            ]
          },
          "metadata": {
            "tags": []
          },
          "execution_count": 5
        }
      ]
    },
    {
      "cell_type": "code",
      "metadata": {
        "id": "ltKV2sQa4t3i",
        "colab_type": "code",
        "colab": {
          "base_uri": "https://localhost:8080/",
          "height": 34
        },
        "outputId": "9a750fa8-469b-473d-f889-51a30f96fb93"
      },
      "source": [
        "import math\n",
        "degrees = 180\n",
        "x = math.sin(degrees / 360.0 * 2 * math.pi)\n",
        "print(x)"
      ],
      "execution_count": 10,
      "outputs": [
        {
          "output_type": "stream",
          "text": [
            "1.2246467991473532e-16\n"
          ],
          "name": "stdout"
        }
      ]
    },
    {
      "cell_type": "code",
      "metadata": {
        "id": "NWLDYOp_8f6s",
        "colab_type": "code",
        "colab": {
          "base_uri": "https://localhost:8080/",
          "height": 34
        },
        "outputId": "8ba0463f-ba97-4b51-bbff-79474955aa71"
      },
      "source": [
        "import math\n",
        "degrees = 270\n",
        "x = math.exp(math.log(x+1))\n",
        "print(x)"
      ],
      "execution_count": 13,
      "outputs": [
        {
          "output_type": "stream",
          "text": [
            "2.0\n"
          ],
          "name": "stdout"
        }
      ]
    },
    {
      "cell_type": "code",
      "metadata": {
        "id": "Ds1eL8ym9rK4",
        "colab_type": "code",
        "colab": {}
      },
      "source": [
        ""
      ],
      "execution_count": 0,
      "outputs": []
    }
  ]
}